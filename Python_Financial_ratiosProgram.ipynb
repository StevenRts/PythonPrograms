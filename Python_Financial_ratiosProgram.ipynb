{
 "cells": [
  {
   "cell_type": "code",
   "execution_count": 14,
   "metadata": {},
   "outputs": [],
   "source": [
    "import pandas as pd\n",
    "import requests\n",
    "import json\n",
    "\n",
    "\n",
    "fr = requests.get(\"https://financialmodelingprep.com/api/v3/financial-ratios/SWK?limit=40&apikey=(ENTER API)\")\n",
    "fr = fr.json()"
   ]
  },
  {
   "cell_type": "code",
   "execution_count": 1,
   "metadata": {},
   "outputs": [
    {
     "ename": "NameError",
     "evalue": "name 'pd' is not defined",
     "output_type": "error",
     "traceback": [
      "\u001b[1;31m---------------------------------------------------------------------------\u001b[0m",
      "\u001b[1;31mNameError\u001b[0m                                 Traceback (most recent call last)",
      "Input \u001b[1;32mIn [1]\u001b[0m, in \u001b[0;36m<module>\u001b[1;34m\u001b[0m\n\u001b[1;32m----> 1\u001b[0m \u001b[43mpd\u001b[49m\u001b[38;5;241m.\u001b[39moptions\u001b[38;5;241m.\u001b[39mdisplay\u001b[38;5;241m.\u001b[39mmax_rows \u001b[38;5;241m=\u001b[39m \u001b[38;5;241m100\u001b[39m\n\u001b[0;32m      2\u001b[0m \u001b[38;5;28;01mdef\u001b[39;00m \u001b[38;5;21mfinancialratios\u001b[39m(quote):\n\u001b[0;32m      3\u001b[0m     fr \u001b[38;5;241m=\u001b[39m requests\u001b[38;5;241m.\u001b[39mget(\u001b[38;5;124mf\u001b[39m\u001b[38;5;124m\"\u001b[39m\u001b[38;5;124mhttps://financialmodelingprep.com/api/v3/financial-ratios/\u001b[39m\u001b[38;5;132;01m{\u001b[39;00mquote\u001b[38;5;132;01m}\u001b[39;00m\u001b[38;5;124m?limit=40&apikey=(ENTER API)\u001b[39m\u001b[38;5;124m\"\u001b[39m)\n",
      "\u001b[1;31mNameError\u001b[0m: name 'pd' is not defined"
     ]
    }
   ],
   "source": [
    "pd.options.display.max_rows = 100\n",
    "def financialratios(quote):\n",
    "    fr = requests.get(f\"https://financialmodelingprep.com/api/v3/financial-ratios/{quote}?limit=40&apikey=(ENTER API)\")\n",
    "    fr = fr.json()\n",
    "    valuation = fr['ratios'][0]['investmentValuationRatios']\n",
    "    profitability = fr['ratios'][0]['profitabilityIndicatorRatios']\n",
    "    operating = fr['ratios'][0]['operatingPerformanceRatios']\n",
    "    liquidity = fr['ratios'][0]['liquidityMeasurementRatios']\n",
    "    debt = fr['ratios'][0]['debtRatios']\n",
    "\n",
    "    valuation = pd.DataFrame(list(valuation.items()),columns = ['Ratio', quote])\n",
    "    profitability = pd.DataFrame(list(profitability.items()),columns = ['Ratio', quote])\n",
    "    operating = pd.DataFrame(list(operating.items()),columns = ['Ratio', quote])\n",
    "    liquidity = pd.DataFrame(list(liquidity.items()),columns = ['Ratio', quote])\n",
    "    debt = pd.DataFrame(list(debt.items()),columns = ['Ratio', quote])\n",
    "\n",
    "    frames = [valuation,profitability,operating,liquidity,debt]\n",
    "    concatedframes = pd.concat(frames)\n",
    "    return concatedframes\n",
    "\n",
    "\n",
    "listofstocks= ['APPL','GOOGL']\n",
    "x = financialratios('SWK')\n",
    "\n",
    "for item in listofstocks:\n",
    "    y = financialratios(item)\n",
    "    x = x.merge(y, on='Ratio')\n",
    "\n",
    "x"
   ]
  }
 ],
 "metadata": {
  "interpreter": {
   "hash": "dee37978f18c0c6769c9cb9465b2348b86610efea26ef9be37fc6150dc9ce0ae"
  },
  "kernelspec": {
   "display_name": "Python 3.10.1 64-bit",
   "language": "python",
   "name": "python3"
  },
  "language_info": {
   "codemirror_mode": {
    "name": "ipython",
    "version": 3
   },
   "file_extension": ".py",
   "mimetype": "text/x-python",
   "name": "python",
   "nbconvert_exporter": "python",
   "pygments_lexer": "ipython3",
   "version": "3.10.1"
  },
  "orig_nbformat": 4
 },
 "nbformat": 4,
 "nbformat_minor": 2
}
